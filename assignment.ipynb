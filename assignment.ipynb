{
 "cells": [
  {
   "cell_type": "markdown",
   "metadata": {
    "collapsed": true
   },
   "source": [
    "<H1>My Jupyter Notebook on IBM Watson Studio<H1>"
   ]
  },
  {
   "cell_type": "markdown",
   "metadata": {},
   "source": [
    "<b>Dexter Lee </b><br>Data Scientist "
   ]
  },
  {
   "cell_type": "markdown",
   "metadata": {},
   "source": [
    "<i>I am interested in data science because data i want to become a datascietist under the Plant Industry"
   ]
  },
  {
   "cell_type": "markdown",
   "metadata": {},
   "source": [
    "<h3>The Following Code will Display the Message \"Hellow world\"</h3> "
   ]
  },
  {
   "cell_type": "code",
   "execution_count": 13,
   "metadata": {},
   "outputs": [
    {
     "name": "stdout",
     "output_type": "stream",
     "text": [
      "Hello World\n"
     ]
    }
   ],
   "source": [
    "print(\"Hello World\")"
   ]
  },
  {
   "cell_type": "markdown",
   "metadata": {},
   "source": [
    "# <html>\n",
    "<header>\n",
    "</header>\n",
    "\n",
    "<body>\n",
    "    <section>\n",
    "        <h1> My favourite Fruits</h1>\n",
    "        <ol>\n",
    "            <li>Apple</li>\n",
    "            <li>Banana</li>\n",
    "            <li>Orange</li>\n",
    "            <li>Mango</li>\n",
    "            <li>Grapes</li>\n",
    "        </ol>\n",
    "        <hr>\n",
    "        <table border=\"1px\">\n",
    "            <tr>\n",
    "                <td><b>Needs</b></td>\n",
    "                <td><b>Wants</b></td>\n",
    "            </tr>\n",
    "            <tr>\n",
    "                <td>Water</td>\n",
    "                <td>Car</td>\n",
    "            </tr>\n",
    "            <tr>\n",
    "                <td>Food</td>\n",
    "                <td>Phone</td>\n",
    "            </tr>\n",
    "            <tr>\n",
    "                <td>Education</td>\n",
    "                <td>Computer</td>\n",
    "            </tr>\n",
    "            <tr>\n",
    "                <td>Medicine</td>\n",
    "                <td>Television</td>\n",
    "            </tr>\n",
    "        </table>\n",
    "        <br>\n",
    "        <hr>\n",
    "    </section>\n",
    "    <footer>\n",
    "    </footer>\n",
    "</body>\n",
    "</html>"
   ]
  },
  {
   "cell_type": "code",
   "execution_count": null,
   "metadata": {},
   "outputs": [],
   "source": []
  },
  {
   "cell_type": "code",
   "execution_count": null,
   "metadata": {},
   "outputs": [],
   "source": []
  },
  {
   "cell_type": "code",
   "execution_count": null,
   "metadata": {},
   "outputs": [],
   "source": []
  }
 ],
 "metadata": {
  "kernelspec": {
   "display_name": "Python 3.9",
   "language": "python",
   "name": "python3"
  },
  "language_info": {
   "codemirror_mode": {
    "name": "ipython",
    "version": 3
   },
   "file_extension": ".py",
   "mimetype": "text/x-python",
   "name": "python",
   "nbconvert_exporter": "python",
   "pygments_lexer": "ipython3",
   "version": "3.9.12"
  }
 },
 "nbformat": 4,
 "nbformat_minor": 1
}
